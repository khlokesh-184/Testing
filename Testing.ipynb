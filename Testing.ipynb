{
  "nbformat": 4,
  "nbformat_minor": 0,
  "metadata": {
    "colab": {
      "name": "Testing.ipynb",
      "version": "0.3.2",
      "provenance": [],
      "include_colab_link": true
    },
    "kernelspec": {
      "name": "python3",
      "display_name": "Python 3"
    },
    "accelerator": "GPU"
  },
  "cells": [
    {
      "cell_type": "markdown",
      "metadata": {
        "id": "view-in-github",
        "colab_type": "text"
      },
      "source": [
        "<a href=\"https://colab.research.google.com/github/khlokesh-184/Testing/blob/master/Testing.ipynb\" target=\"_parent\"><img src=\"https://colab.research.google.com/assets/colab-badge.svg\" alt=\"Open In Colab\"/></a>"
      ]
    },
    {
      "metadata": {
        "id": "wya5S2kYOIpq",
        "colab_type": "code",
        "outputId": "9809f8c8-4510-4eaa-be3d-207a221534d8",
        "colab": {
          "base_uri": "https://localhost:8080/",
          "height": 119
        }
      },
      "cell_type": "code",
      "source": [
        "!git clone https://github.com/khlokesh-184/Final_Year_Project.git"
      ],
      "execution_count": 1,
      "outputs": [
        {
          "output_type": "stream",
          "text": [
            "Cloning into 'Final_Year_Project'...\n",
            "remote: Enumerating objects: 34, done.\u001b[K\n",
            "remote: Counting objects: 100% (34/34), done.\u001b[K\n",
            "remote: Compressing objects: 100% (29/29), done.\u001b[K\n",
            "remote: Total 34 (delta 5), reused 32 (delta 3), pack-reused 0\u001b[K\n",
            "Unpacking objects: 100% (34/34), done.\n"
          ],
          "name": "stdout"
        }
      ]
    },
    {
      "metadata": {
        "id": "DNmdUdhtOgqe",
        "colab_type": "code",
        "outputId": "8a02c444-1eb2-44e4-8b13-229a3fe3d2c0",
        "colab": {
          "base_uri": "https://localhost:8080/",
          "height": 122
        }
      },
      "cell_type": "code",
      "source": [
        "from google.colab import drive\n",
        "drive.mount('/content/drive')"
      ],
      "execution_count": 2,
      "outputs": [
        {
          "output_type": "stream",
          "text": [
            "Go to this URL in a browser: https://accounts.google.com/o/oauth2/auth?client_id=947318989803-6bn6qk8qdgf4n4g3pfee6491hc0brc4i.apps.googleusercontent.com&redirect_uri=urn%3Aietf%3Awg%3Aoauth%3A2.0%3Aoob&scope=email%20https%3A%2F%2Fwww.googleapis.com%2Fauth%2Fdocs.test%20https%3A%2F%2Fwww.googleapis.com%2Fauth%2Fdrive%20https%3A%2F%2Fwww.googleapis.com%2Fauth%2Fdrive.photos.readonly%20https%3A%2F%2Fwww.googleapis.com%2Fauth%2Fpeopleapi.readonly&response_type=code\n",
            "\n",
            "Enter your authorization code:\n",
            "··········\n",
            "Mounted at /content/drive\n"
          ],
          "name": "stdout"
        }
      ]
    },
    {
      "metadata": {
        "id": "zwcUv8uUOlir",
        "colab_type": "code",
        "outputId": "dba83cfe-1a79-4a01-ff3a-516d91bdc1de",
        "colab": {
          "base_uri": "https://localhost:8080/",
          "height": 34
        }
      },
      "cell_type": "code",
      "source": [
        "cd drive/My Drive"
      ],
      "execution_count": 5,
      "outputs": [
        {
          "output_type": "stream",
          "text": [
            "/content/drive/My Drive\n"
          ],
          "name": "stdout"
        }
      ]
    },
    {
      "metadata": {
        "id": "nDZcob4vO3nH",
        "colab_type": "code",
        "outputId": "d32cb846-626d-4ffb-852d-0b282696af3e",
        "colab": {
          "base_uri": "https://localhost:8080/",
          "height": 34
        }
      },
      "cell_type": "code",
      "source": [
        "from zipfile import *\n",
        "import os\n",
        "file_name = \"train.zip\"\n",
        "\n",
        "with ZipFile(file_name, 'r') as zip:\n",
        "  os.chdir(\"..\")\n",
        "  os.chdir(\"..\")\n",
        "  path = os.path.abspath(os.curdir)\n",
        "  zip.extractall(path+\"/Final_Year_Project/spoken_language_dataset/build\")\n",
        "  print(\"Done\")"
      ],
      "execution_count": 6,
      "outputs": [
        {
          "output_type": "stream",
          "text": [
            "Done\n"
          ],
          "name": "stdout"
        }
      ]
    },
    {
      "metadata": {
        "id": "fUFsvGo-O6fE",
        "colab_type": "code",
        "outputId": "b899c148-974b-4075-994a-5e25446eaa85",
        "colab": {
          "base_uri": "https://localhost:8080/",
          "height": 241
        }
      },
      "cell_type": "code",
      "source": [
        "!pip install soundfile\n",
        "!pip install speechpy"
      ],
      "execution_count": 7,
      "outputs": [
        {
          "output_type": "stream",
          "text": [
            "Collecting soundfile\n",
            "  Downloading https://files.pythonhosted.org/packages/68/64/1191352221e2ec90db7492b4bf0c04fd9d2508de67b3f39cbf093cd6bd86/SoundFile-0.10.2-py2.py3-none-any.whl\n",
            "Requirement already satisfied: cffi>=1.0 in /usr/local/lib/python3.6/dist-packages (from soundfile) (1.12.2)\n",
            "Requirement already satisfied: pycparser in /usr/local/lib/python3.6/dist-packages (from cffi>=1.0->soundfile) (2.19)\n",
            "Installing collected packages: soundfile\n",
            "Successfully installed soundfile-0.10.2\n",
            "Collecting speechpy\n",
            "  Downloading https://files.pythonhosted.org/packages/8f/12/dbda397a998063d9541d9e149c4f523ed138a48824d20598e37632ba33b1/speechpy-2.4-py2.py3-none-any.whl\n",
            "Requirement already satisfied: scipy in /usr/local/lib/python3.6/dist-packages (from speechpy) (1.2.1)\n",
            "Requirement already satisfied: numpy in /usr/local/lib/python3.6/dist-packages (from speechpy) (1.16.2)\n",
            "Installing collected packages: speechpy\n",
            "Successfully installed speechpy-2.4\n"
          ],
          "name": "stdout"
        }
      ]
    },
    {
      "metadata": {
        "id": "SZUstr5mPCUg",
        "colab_type": "code",
        "outputId": "84671191-71e0-4362-f560-1f280e9197f3",
        "colab": {
          "base_uri": "https://localhost:8080/",
          "height": 34
        }
      },
      "cell_type": "code",
      "source": [
        "cd Final_Year_Project"
      ],
      "execution_count": 8,
      "outputs": [
        {
          "output_type": "stream",
          "text": [
            "/content/Final_Year_Project\n"
          ],
          "name": "stdout"
        }
      ]
    },
    {
      "metadata": {
        "id": "2eQO-KWVPKen",
        "colab_type": "code",
        "outputId": "f1d9c430-0150-4106-cd08-192234747047",
        "colab": {
          "base_uri": "https://localhost:8080/",
          "height": 34
        }
      },
      "cell_type": "code",
      "source": [
        "!python features.py"
      ],
      "execution_count": 9,
      "outputs": [
        {
          "output_type": "stream",
          "text": [
            "DONE!!\n"
          ],
          "name": "stdout"
        }
      ]
    },
    {
      "metadata": {
        "id": "CwXvceXsPNu8",
        "colab_type": "code",
        "outputId": "ed4b0b9c-7912-4446-92e3-18bd773c84d1",
        "colab": {
          "base_uri": "https://localhost:8080/",
          "height": 85
        }
      },
      "cell_type": "code",
      "source": [
        "!python folds.py"
      ],
      "execution_count": 10,
      "outputs": [
        {
          "output_type": "stream",
          "text": [
            "[train] Fold 1\n",
            "[train] Fold 2\n",
            "[train] Fold 3\n",
            "It took [s]:  0.870384693145752\n"
          ],
          "name": "stdout"
        }
      ]
    },
    {
      "metadata": {
        "id": "wG7boObaPYNa",
        "colab_type": "code",
        "outputId": "2d859bf3-f782-4054-b8c5-1d18ae712513",
        "colab": {
          "base_uri": "https://localhost:8080/",
          "height": 1890
        }
      },
      "cell_type": "code",
      "source": [
        "!python model.py"
      ],
      "execution_count": 11,
      "outputs": [
        {
          "output_type": "stream",
          "text": [
            "Using TensorFlow backend.\n",
            "Classes: ['de', 'en', 'es']\n",
            "[train] labels: (156, 3), features: (156, 40, 1000, 1)\n",
            "[train] labels: (78, 3), features: (78, 40, 1000, 1)\n",
            "WARNING:tensorflow:From /usr/local/lib/python3.6/dist-packages/tensorflow/python/framework/op_def_library.py:263: colocate_with (from tensorflow.python.framework.ops) is deprecated and will be removed in a future version.\n",
            "Instructions for updating:\n",
            "Colocations handled automatically by placer.\n",
            "WARNING:tensorflow:From /usr/local/lib/python3.6/dist-packages/keras/backend/tensorflow_backend.py:3445: calling dropout (from tensorflow.python.ops.nn_ops) with keep_prob is deprecated and will be removed in a future version.\n",
            "Instructions for updating:\n",
            "Please use `rate` instead of `keep_prob`. Rate should be set to `rate = 1 - keep_prob`.\n",
            "_________________________________________________________________\n",
            "Layer (type)                 Output Shape              Param #   \n",
            "=================================================================\n",
            "conv2d_1 (Conv2D)            (None, 40, 1000, 16)      160       \n",
            "_________________________________________________________________\n",
            "activation_1 (Activation)    (None, 40, 1000, 16)      0         \n",
            "_________________________________________________________________\n",
            "max_pooling2d_1 (MaxPooling2 (None, 20, 500, 16)       0         \n",
            "_________________________________________________________________\n",
            "conv2d_2 (Conv2D)            (None, 20, 500, 32)       4640      \n",
            "_________________________________________________________________\n",
            "activation_2 (Activation)    (None, 20, 500, 32)       0         \n",
            "_________________________________________________________________\n",
            "max_pooling2d_2 (MaxPooling2 (None, 10, 250, 32)       0         \n",
            "_________________________________________________________________\n",
            "conv2d_3 (Conv2D)            (None, 10, 250, 64)       18496     \n",
            "_________________________________________________________________\n",
            "activation_3 (Activation)    (None, 10, 250, 64)       0         \n",
            "_________________________________________________________________\n",
            "max_pooling2d_3 (MaxPooling2 (None, 5, 125, 64)        0         \n",
            "_________________________________________________________________\n",
            "conv2d_4 (Conv2D)            (None, 5, 125, 128)       123008    \n",
            "_________________________________________________________________\n",
            "activation_4 (Activation)    (None, 5, 125, 128)       0         \n",
            "_________________________________________________________________\n",
            "max_pooling2d_4 (MaxPooling2 (None, 5, 25, 128)        0         \n",
            "_________________________________________________________________\n",
            "conv2d_5 (Conv2D)            (None, 5, 25, 256)        491776    \n",
            "_________________________________________________________________\n",
            "activation_5 (Activation)    (None, 5, 25, 256)        0         \n",
            "_________________________________________________________________\n",
            "max_pooling2d_5 (MaxPooling2 (None, 5, 5, 256)         0         \n",
            "_________________________________________________________________\n",
            "average_pooling2d_1 (Average (None, 1, 1, 256)         0         \n",
            "_________________________________________________________________\n",
            "flatten_1 (Flatten)          (None, 256)               0         \n",
            "_________________________________________________________________\n",
            "dense_1 (Dense)              (None, 32)                8224      \n",
            "_________________________________________________________________\n",
            "dropout_1 (Dropout)          (None, 32)                0         \n",
            "_________________________________________________________________\n",
            "dense_2 (Dense)              (None, 3)                 99        \n",
            "_________________________________________________________________\n",
            "activation_6 (Activation)    (None, 3)                 0         \n",
            "=================================================================\n",
            "Total params: 646,403\n",
            "Trainable params: 646,403\n",
            "Non-trainable params: 0\n",
            "_________________________________________________________________\n",
            "WARNING:tensorflow:From /usr/local/lib/python3.6/dist-packages/tensorflow/python/ops/math_ops.py:3066: to_int32 (from tensorflow.python.ops.math_ops) is deprecated and will be removed in a future version.\n",
            "Instructions for updating:\n",
            "Use tf.cast instead.\n",
            "Train on 156 samples, validate on 78 samples\n",
            "Epoch 1/4\n",
            "156/156 [==============================] - 4s 27ms/step - loss: 1.4904 - acc: 0.3782 - val_loss: 1.4775 - val_acc: 0.3333\n",
            "Epoch 2/4\n",
            "156/156 [==============================] - 0s 2ms/step - loss: 1.4856 - acc: 0.3205 - val_loss: 1.4766 - val_acc: 0.3333\n",
            "Epoch 3/4\n",
            "156/156 [==============================] - 0s 2ms/step - loss: 1.4899 - acc: 0.3077 - val_loss: 1.4754 - val_acc: 0.3590\n",
            "Epoch 4/4\n",
            "156/156 [==============================] - 0s 2ms/step - loss: 1.4866 - acc: 0.3462 - val_loss: 1.4772 - val_acc: 0.3333\n",
            "Accuracy: 0.35897435935644\n",
            "\n",
            "## test\n",
            "\n",
            "Average confidence: 0.3456449806690216\n",
            "\n",
            "Amount of errors by gender:\n",
            "     m   f\n",
            "de   6   8\n",
            "en   6   4\n",
            "es  13  13 \n",
            "\n",
            "Amount of errors by gender (threshold 0.8):\n",
            "     m  f\n",
            "de   6  8\n",
            "en   0  0\n",
            "es  12  6 \n",
            "\n",
            "Amount of scores by gender (threshold 0.8):\n",
            "    m  f\n",
            "de  0  0\n",
            "en  7  9\n",
            "es  0  0 \n",
            "\n",
            "              precision    recall  f1-score   support\n",
            "\n",
            "          de       0.40      0.46      0.43        26\n",
            "          en       0.33      0.62      0.43        26\n",
            "          es       0.00      0.00      0.00        26\n",
            "\n",
            "   micro avg       0.36      0.36      0.36        78\n",
            "   macro avg       0.24      0.36      0.29        78\n",
            "weighted avg       0.24      0.36      0.29        78\n",
            "\n",
            "\n",
            "## Summary\n",
            "\n",
            "Mean: 0.35897435935644, Std 0.0\n"
          ],
          "name": "stdout"
        }
      ]
    },
    {
      "metadata": {
        "id": "-f9OYJvjPjCA",
        "colab_type": "code",
        "colab": {}
      },
      "cell_type": "code",
      "source": [
        ""
      ],
      "execution_count": 0,
      "outputs": []
    }
  ]
}